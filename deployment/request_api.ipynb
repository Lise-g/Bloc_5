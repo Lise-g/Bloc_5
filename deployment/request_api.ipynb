{
 "cells": [
  {
   "cell_type": "code",
   "execution_count": 36,
   "metadata": {},
   "outputs": [],
   "source": [
    "import requests\n",
    "import json"
   ]
  },
  {
   "cell_type": "code",
   "execution_count": 37,
   "metadata": {},
   "outputs": [],
   "source": [
    "param = {\n",
    "  \"model_key\": \"Citroën\",\n",
    "  \"mileage\": 97097,\n",
    "  \"engine_power\": 160,\n",
    "  \"fuel\": \"diesel\",\n",
    "  \"paint_color\": \"grey\",\n",
    "  \"car_type\": \"estate\",\n",
    "  \"private_parking_available\": False,\n",
    "  \"has_gps\": False,\n",
    "  \"has_air_conditioning\": True,\n",
    "  \"automatic_car\": True,\n",
    "  \"has_getaround_connect\": True,\n",
    "  \"has_speed_regulator\": True,\n",
    "  \"winter_tires\": True\n",
    "}"
   ]
  },
  {
   "cell_type": "code",
   "execution_count": 38,
   "metadata": {},
   "outputs": [],
   "source": [
    "r = requests.post('http://0.0.0.0:4000/predict', data = json.dumps(param).encode(\"utf-8\"))\n",
    "result = r.json()"
   ]
  },
  {
   "cell_type": "code",
   "execution_count": 39,
   "metadata": {},
   "outputs": [
    {
     "data": {
      "text/plain": [
       "{'prediction': [139.82994079589844]}"
      ]
     },
     "execution_count": 39,
     "metadata": {},
     "output_type": "execute_result"
    }
   ],
   "source": [
    "result"
   ]
  },
  {
   "cell_type": "code",
   "execution_count": null,
   "metadata": {},
   "outputs": [],
   "source": []
  }
 ],
 "metadata": {
  "kernelspec": {
   "display_name": "Python 3",
   "language": "python",
   "name": "python3"
  },
  "language_info": {
   "codemirror_mode": {
    "name": "ipython",
    "version": 3
   },
   "file_extension": ".py",
   "mimetype": "text/x-python",
   "name": "python",
   "nbconvert_exporter": "python",
   "pygments_lexer": "ipython3",
   "version": "3.10.6"
  },
  "orig_nbformat": 4,
  "vscode": {
   "interpreter": {
    "hash": "916dbcbb3f70747c44a77c7bcd40155683ae19c65e1c03b4aa3499c5328201f1"
   }
  }
 },
 "nbformat": 4,
 "nbformat_minor": 2
}
